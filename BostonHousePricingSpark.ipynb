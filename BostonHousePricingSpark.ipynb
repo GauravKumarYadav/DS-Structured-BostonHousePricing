{
 "cells": [
  {
   "cell_type": "code",
   "execution_count": 1,
   "id": "e849b9e7",
   "metadata": {
    "ExecuteTime": {
     "end_time": "2023-02-19T16:40:59.367073Z",
     "start_time": "2023-02-19T16:40:55.195692Z"
    }
   },
   "outputs": [],
   "source": [
    "import pyspark \n",
    "from sklearn.datasets import load_boston\n",
    "from pyspark.sql import SparkSession \n",
    "from pyspark.sql.types import StructField, StructType , DoubleType\n",
    "from pyspark.sql.functions import corr"
   ]
  },
  {
   "cell_type": "markdown",
   "id": "fc439b0f",
   "metadata": {},
   "source": [
    "## config the spark"
   ]
  },
  {
   "cell_type": "code",
   "execution_count": 2,
   "id": "03bb969b",
   "metadata": {
    "ExecuteTime": {
     "end_time": "2023-02-19T16:41:08.011223Z",
     "start_time": "2023-02-19T16:40:59.372138Z"
    }
   },
   "outputs": [
    {
     "name": "stderr",
     "output_type": "stream",
     "text": [
      "23/02/19 22:11:02 WARN Utils: Your hostname, MacBook-Air.local resolves to a loopback address: 127.0.0.1; using 192.168.1.9 instead (on interface en0)\n",
      "23/02/19 22:11:02 WARN Utils: Set SPARK_LOCAL_IP if you need to bind to another address\n",
      "23/02/19 22:11:02 WARN NativeCodeLoader: Unable to load native-hadoop library for your platform... using builtin-java classes where applicable\n",
      "Using Spark's default log4j profile: org/apache/spark/log4j-defaults.properties\n",
      "Setting default log level to \"WARN\".\n",
      "To adjust logging level use sc.setLogLevel(newLevel). For SparkR, use setLogLevel(newLevel).\n",
      "23/02/19 22:11:05 WARN Utils: Service 'SparkUI' could not bind on port 4040. Attempting port 4041.\n"
     ]
    }
   ],
   "source": [
    "spark = SparkSession.builder.appName(\"BostonHousePricingSpark\").master(\"local[*]\").getOrCreate()"
   ]
  },
  {
   "cell_type": "markdown",
   "id": "b2f6d1e6",
   "metadata": {
    "ExecuteTime": {
     "end_time": "2023-01-31T15:52:58.544174Z",
     "start_time": "2023-01-31T15:52:58.531241Z"
    }
   },
   "source": [
    " ## load the boston dataset"
   ]
  },
  {
   "cell_type": "code",
   "execution_count": 3,
   "id": "8b29c649",
   "metadata": {
    "ExecuteTime": {
     "end_time": "2023-02-19T16:41:08.057029Z",
     "start_time": "2023-02-19T16:41:08.015523Z"
    },
    "scrolled": true
   },
   "outputs": [
    {
     "name": "stderr",
     "output_type": "stream",
     "text": [
      "/Volumes/macbook/Anaconda/anaconda3/envs/py/lib/python3.9/site-packages/sklearn/utils/deprecation.py:87: FutureWarning: Function load_boston is deprecated; `load_boston` is deprecated in 1.0 and will be removed in 1.2.\n",
      "\n",
      "    The Boston housing prices dataset has an ethical problem. You can refer to\n",
      "    the documentation of this function for further details.\n",
      "\n",
      "    The scikit-learn maintainers therefore strongly discourage the use of this\n",
      "    dataset unless the purpose of the code is to study and educate about\n",
      "    ethical issues in data science and machine learning.\n",
      "\n",
      "    In this special case, you can fetch the dataset from the original\n",
      "    source::\n",
      "\n",
      "        import pandas as pd\n",
      "        import numpy as np\n",
      "\n",
      "        data_url = \"http://lib.stat.cmu.edu/datasets/boston\"\n",
      "        raw_df = pd.read_csv(data_url, sep=\"\\s+\", skiprows=22, header=None)\n",
      "        data = np.hstack([raw_df.values[::2, :], raw_df.values[1::2, :2]])\n",
      "        target = raw_df.values[1::2, 2]\n",
      "\n",
      "    Alternative datasets include the California housing dataset (i.e.\n",
      "    :func:`~sklearn.datasets.fetch_california_housing`) and the Ames housing\n",
      "    dataset. You can load the datasets as follows::\n",
      "\n",
      "        from sklearn.datasets import fetch_california_housing\n",
      "        housing = fetch_california_housing()\n",
      "\n",
      "    for the California housing dataset and::\n",
      "\n",
      "        from sklearn.datasets import fetch_openml\n",
      "        housing = fetch_openml(name=\"house_prices\", as_frame=True)\n",
      "\n",
      "    for the Ames housing dataset.\n",
      "  warnings.warn(msg, category=FutureWarning)\n"
     ]
    }
   ],
   "source": [
    "boston = load_boston()"
   ]
  },
  {
   "cell_type": "markdown",
   "id": "960ffabd",
   "metadata": {},
   "source": [
    "## convert sklearn dataset to spark dataframe and save the spark dataframe to local"
   ]
  },
  {
   "cell_type": "code",
   "execution_count": 4,
   "id": "1655a53c",
   "metadata": {
    "ExecuteTime": {
     "end_time": "2023-02-19T16:41:19.513237Z",
     "start_time": "2023-02-19T16:41:08.071957Z"
    }
   },
   "outputs": [
    {
     "name": "stdout",
     "output_type": "stream",
     "text": [
      "StructType(List(StructField(CRIM,DoubleType,true),StructField(ZN,DoubleType,true),StructField(INDUS,DoubleType,true),StructField(CHAS,DoubleType,true),StructField(NOX,DoubleType,true),StructField(RM,DoubleType,true),StructField(AGE,DoubleType,true),StructField(DIS,DoubleType,true),StructField(RAD,DoubleType,true),StructField(TAX,DoubleType,true),StructField(PTRATIO,DoubleType,true),StructField(B,DoubleType,true),StructField(LSTAT,DoubleType,true),StructField(Target,DoubleType,true)))\n"
     ]
    },
    {
     "name": "stderr",
     "output_type": "stream",
     "text": [
      "[Stage 0:>                                                          (0 + 1) / 1]\r"
     ]
    },
    {
     "name": "stdout",
     "output_type": "stream",
     "text": [
      "+-------+----+-----+----+-----+-----+----+------+---+-----+-------+-----+-----+------+\n",
      "|   CRIM|  ZN|INDUS|CHAS|  NOX|   RM| AGE|   DIS|RAD|  TAX|PTRATIO|    B|LSTAT|Target|\n",
      "+-------+----+-----+----+-----+-----+----+------+---+-----+-------+-----+-----+------+\n",
      "|0.00632|18.0| 2.31| 0.0|0.538|6.575|65.2|  4.09|1.0|296.0|   15.3|396.9| 4.98|  24.0|\n",
      "|0.02731| 0.0| 7.07| 0.0|0.469|6.421|78.9|4.9671|2.0|242.0|   17.8|396.9| 9.14|  21.6|\n",
      "+-------+----+-----+----+-----+-----+----+------+---+-----+-------+-----+-----+------+\n",
      "only showing top 2 rows\n",
      "\n"
     ]
    },
    {
     "name": "stderr",
     "output_type": "stream",
     "text": [
      "\r",
      "                                                                                \r"
     ]
    }
   ],
   "source": [
    "fields = [StructField(boston.feature_names[i],DoubleType(),True) for i in range(boston.data.shape[1])]\n",
    "fields.append(StructField(\"Target\",DoubleType(),True))\n",
    "schema = StructType(fields)\n",
    "print(schema)\n",
    "data_list = boston.data.tolist()\n",
    "target_list = boston.target.tolist()\n",
    "data_target_list = [(data_list[i] + [target_list[i]]) for i in range(len(target_list))]\n",
    "data = spark.createDataFrame(data_target_list,schema=schema)\n",
    "data.show(2)"
   ]
  },
  {
   "cell_type": "code",
   "execution_count": 5,
   "id": "75b87b76",
   "metadata": {
    "ExecuteTime": {
     "end_time": "2023-02-19T16:41:21.381739Z",
     "start_time": "2023-02-19T16:41:19.518064Z"
    }
   },
   "outputs": [
    {
     "ename": "AnalysisException",
     "evalue": "path file:/Users/gaurav/Desktop/Datalaptop/Desktop/DataScience/gitProjects/Data-Science-Portfolio/BostonHousePricing/data/raw/bostonHousing already exists.",
     "output_type": "error",
     "traceback": [
      "\u001b[0;31m---------------------------------------------------------------------------\u001b[0m",
      "\u001b[0;31mAnalysisException\u001b[0m                         Traceback (most recent call last)",
      "Input \u001b[0;32mIn [5]\u001b[0m, in \u001b[0;36m<cell line: 2>\u001b[0;34m()\u001b[0m\n\u001b[1;32m      1\u001b[0m \u001b[38;5;66;03m#save the Data\u001b[39;00m\n\u001b[0;32m----> 2\u001b[0m \u001b[43mdata\u001b[49m\u001b[38;5;241;43m.\u001b[39;49m\u001b[43mwrite\u001b[49m\u001b[38;5;241;43m.\u001b[39;49m\u001b[43mformat\u001b[49m\u001b[43m(\u001b[49m\u001b[38;5;124;43m\"\u001b[39;49m\u001b[38;5;124;43mparquet\u001b[39;49m\u001b[38;5;124;43m\"\u001b[39;49m\u001b[43m)\u001b[49m\u001b[38;5;241;43m.\u001b[39;49m\u001b[43moption\u001b[49m\u001b[43m(\u001b[49m\u001b[38;5;124;43m'\u001b[39;49m\u001b[38;5;124;43mheader\u001b[39;49m\u001b[38;5;124;43m'\u001b[39;49m\u001b[43m,\u001b[49m\u001b[38;5;124;43m'\u001b[39;49m\u001b[38;5;124;43mtrue\u001b[39;49m\u001b[38;5;124;43m'\u001b[39;49m\u001b[43m)\u001b[49m\u001b[38;5;241;43m.\u001b[39;49m\u001b[43msave\u001b[49m\u001b[43m(\u001b[49m\u001b[38;5;124;43m'\u001b[39;49m\u001b[38;5;124;43mdata/raw/bostonHousing\u001b[39;49m\u001b[38;5;124;43m'\u001b[39;49m\u001b[43m)\u001b[49m\n",
      "File \u001b[0;32m/Volumes/macbook/Anaconda/anaconda3/envs/py/lib/python3.9/site-packages/pyspark/sql/readwriter.py:1109\u001b[0m, in \u001b[0;36mDataFrameWriter.save\u001b[0;34m(self, path, format, mode, partitionBy, **options)\u001b[0m\n\u001b[1;32m   1107\u001b[0m     \u001b[38;5;28mself\u001b[39m\u001b[38;5;241m.\u001b[39m_jwrite\u001b[38;5;241m.\u001b[39msave()\n\u001b[1;32m   1108\u001b[0m \u001b[38;5;28;01melse\u001b[39;00m:\n\u001b[0;32m-> 1109\u001b[0m     \u001b[38;5;28;43mself\u001b[39;49m\u001b[38;5;241;43m.\u001b[39;49m\u001b[43m_jwrite\u001b[49m\u001b[38;5;241;43m.\u001b[39;49m\u001b[43msave\u001b[49m\u001b[43m(\u001b[49m\u001b[43mpath\u001b[49m\u001b[43m)\u001b[49m\n",
      "File \u001b[0;32m/Volumes/macbook/Anaconda/anaconda3/envs/py/lib/python3.9/site-packages/py4j/java_gateway.py:1309\u001b[0m, in \u001b[0;36mJavaMember.__call__\u001b[0;34m(self, *args)\u001b[0m\n\u001b[1;32m   1303\u001b[0m command \u001b[38;5;241m=\u001b[39m proto\u001b[38;5;241m.\u001b[39mCALL_COMMAND_NAME \u001b[38;5;241m+\u001b[39m\\\n\u001b[1;32m   1304\u001b[0m     \u001b[38;5;28mself\u001b[39m\u001b[38;5;241m.\u001b[39mcommand_header \u001b[38;5;241m+\u001b[39m\\\n\u001b[1;32m   1305\u001b[0m     args_command \u001b[38;5;241m+\u001b[39m\\\n\u001b[1;32m   1306\u001b[0m     proto\u001b[38;5;241m.\u001b[39mEND_COMMAND_PART\n\u001b[1;32m   1308\u001b[0m answer \u001b[38;5;241m=\u001b[39m \u001b[38;5;28mself\u001b[39m\u001b[38;5;241m.\u001b[39mgateway_client\u001b[38;5;241m.\u001b[39msend_command(command)\n\u001b[0;32m-> 1309\u001b[0m return_value \u001b[38;5;241m=\u001b[39m \u001b[43mget_return_value\u001b[49m\u001b[43m(\u001b[49m\n\u001b[1;32m   1310\u001b[0m \u001b[43m    \u001b[49m\u001b[43manswer\u001b[49m\u001b[43m,\u001b[49m\u001b[43m \u001b[49m\u001b[38;5;28;43mself\u001b[39;49m\u001b[38;5;241;43m.\u001b[39;49m\u001b[43mgateway_client\u001b[49m\u001b[43m,\u001b[49m\u001b[43m \u001b[49m\u001b[38;5;28;43mself\u001b[39;49m\u001b[38;5;241;43m.\u001b[39;49m\u001b[43mtarget_id\u001b[49m\u001b[43m,\u001b[49m\u001b[43m \u001b[49m\u001b[38;5;28;43mself\u001b[39;49m\u001b[38;5;241;43m.\u001b[39;49m\u001b[43mname\u001b[49m\u001b[43m)\u001b[49m\n\u001b[1;32m   1312\u001b[0m \u001b[38;5;28;01mfor\u001b[39;00m temp_arg \u001b[38;5;129;01min\u001b[39;00m temp_args:\n\u001b[1;32m   1313\u001b[0m     temp_arg\u001b[38;5;241m.\u001b[39m_detach()\n",
      "File \u001b[0;32m/Volumes/macbook/Anaconda/anaconda3/envs/py/lib/python3.9/site-packages/pyspark/sql/utils.py:117\u001b[0m, in \u001b[0;36mcapture_sql_exception.<locals>.deco\u001b[0;34m(*a, **kw)\u001b[0m\n\u001b[1;32m    113\u001b[0m converted \u001b[38;5;241m=\u001b[39m convert_exception(e\u001b[38;5;241m.\u001b[39mjava_exception)\n\u001b[1;32m    114\u001b[0m \u001b[38;5;28;01mif\u001b[39;00m \u001b[38;5;129;01mnot\u001b[39;00m \u001b[38;5;28misinstance\u001b[39m(converted, UnknownException):\n\u001b[1;32m    115\u001b[0m     \u001b[38;5;66;03m# Hide where the exception came from that shows a non-Pythonic\u001b[39;00m\n\u001b[1;32m    116\u001b[0m     \u001b[38;5;66;03m# JVM exception message.\u001b[39;00m\n\u001b[0;32m--> 117\u001b[0m     \u001b[38;5;28;01mraise\u001b[39;00m converted \u001b[38;5;28;01mfrom\u001b[39;00m \u001b[38;5;28mNone\u001b[39m\n\u001b[1;32m    118\u001b[0m \u001b[38;5;28;01melse\u001b[39;00m:\n\u001b[1;32m    119\u001b[0m     \u001b[38;5;28;01mraise\u001b[39;00m\n",
      "\u001b[0;31mAnalysisException\u001b[0m: path file:/Users/gaurav/Desktop/Datalaptop/Desktop/DataScience/gitProjects/Data-Science-Portfolio/BostonHousePricing/data/raw/bostonHousing already exists."
     ]
    }
   ],
   "source": [
    "#save the Data\n",
    "data.write.format(\"parquet\").method('overwrite').option('header','true').save('data/raw/bostonHousing')"
   ]
  },
  {
   "cell_type": "code",
   "execution_count": 6,
   "id": "2b17ef94",
   "metadata": {
    "ExecuteTime": {
     "end_time": "2023-02-19T16:41:46.579223Z",
     "start_time": "2023-02-19T16:41:42.025959Z"
    }
   },
   "outputs": [
    {
     "name": "stderr",
     "output_type": "stream",
     "text": [
      "                                                                                \r"
     ]
    },
    {
     "data": {
      "text/html": [
       "<div>\n",
       "<style scoped>\n",
       "    .dataframe tbody tr th:only-of-type {\n",
       "        vertical-align: middle;\n",
       "    }\n",
       "\n",
       "    .dataframe tbody tr th {\n",
       "        vertical-align: top;\n",
       "    }\n",
       "\n",
       "    .dataframe thead th {\n",
       "        text-align: right;\n",
       "    }\n",
       "</style>\n",
       "<table border=\"1\" class=\"dataframe\">\n",
       "  <thead>\n",
       "    <tr style=\"text-align: right;\">\n",
       "      <th></th>\n",
       "      <th>summary</th>\n",
       "      <th>CRIM</th>\n",
       "      <th>ZN</th>\n",
       "      <th>INDUS</th>\n",
       "      <th>CHAS</th>\n",
       "      <th>NOX</th>\n",
       "      <th>RM</th>\n",
       "      <th>AGE</th>\n",
       "      <th>DIS</th>\n",
       "      <th>RAD</th>\n",
       "      <th>TAX</th>\n",
       "      <th>PTRATIO</th>\n",
       "      <th>B</th>\n",
       "      <th>LSTAT</th>\n",
       "      <th>Target</th>\n",
       "    </tr>\n",
       "  </thead>\n",
       "  <tbody>\n",
       "    <tr>\n",
       "      <th>0</th>\n",
       "      <td>count</td>\n",
       "      <td>506</td>\n",
       "      <td>506</td>\n",
       "      <td>506</td>\n",
       "      <td>506</td>\n",
       "      <td>506</td>\n",
       "      <td>506</td>\n",
       "      <td>506</td>\n",
       "      <td>506</td>\n",
       "      <td>506</td>\n",
       "      <td>506</td>\n",
       "      <td>506</td>\n",
       "      <td>506</td>\n",
       "      <td>506</td>\n",
       "      <td>506</td>\n",
       "    </tr>\n",
       "    <tr>\n",
       "      <th>1</th>\n",
       "      <td>mean</td>\n",
       "      <td>3.613523557312254</td>\n",
       "      <td>11.363636363636363</td>\n",
       "      <td>11.136778656126474</td>\n",
       "      <td>0.0691699604743083</td>\n",
       "      <td>0.5546950592885374</td>\n",
       "      <td>6.284634387351778</td>\n",
       "      <td>68.57490118577076</td>\n",
       "      <td>3.7950426877470353</td>\n",
       "      <td>9.549407114624506</td>\n",
       "      <td>408.2371541501976</td>\n",
       "      <td>18.45553359683795</td>\n",
       "      <td>356.67403162055354</td>\n",
       "      <td>12.653063241106722</td>\n",
       "      <td>22.53280632411067</td>\n",
       "    </tr>\n",
       "    <tr>\n",
       "      <th>2</th>\n",
       "      <td>stddev</td>\n",
       "      <td>8.601545105332487</td>\n",
       "      <td>23.32245299451514</td>\n",
       "      <td>6.860352940897584</td>\n",
       "      <td>0.25399404134041037</td>\n",
       "      <td>0.11587767566755591</td>\n",
       "      <td>0.7026171434153231</td>\n",
       "      <td>28.148861406903624</td>\n",
       "      <td>2.1057101266276113</td>\n",
       "      <td>8.707259384239368</td>\n",
       "      <td>168.53711605495903</td>\n",
       "      <td>2.164945523714439</td>\n",
       "      <td>91.29486438415786</td>\n",
       "      <td>7.14106151134857</td>\n",
       "      <td>9.197104087379817</td>\n",
       "    </tr>\n",
       "    <tr>\n",
       "      <th>3</th>\n",
       "      <td>min</td>\n",
       "      <td>0.00632</td>\n",
       "      <td>0.0</td>\n",
       "      <td>0.46</td>\n",
       "      <td>0.0</td>\n",
       "      <td>0.385</td>\n",
       "      <td>3.561</td>\n",
       "      <td>2.9</td>\n",
       "      <td>1.1296</td>\n",
       "      <td>1.0</td>\n",
       "      <td>187.0</td>\n",
       "      <td>12.6</td>\n",
       "      <td>0.32</td>\n",
       "      <td>1.73</td>\n",
       "      <td>5.0</td>\n",
       "    </tr>\n",
       "    <tr>\n",
       "      <th>4</th>\n",
       "      <td>max</td>\n",
       "      <td>88.9762</td>\n",
       "      <td>100.0</td>\n",
       "      <td>27.74</td>\n",
       "      <td>1.0</td>\n",
       "      <td>0.871</td>\n",
       "      <td>8.78</td>\n",
       "      <td>100.0</td>\n",
       "      <td>12.1265</td>\n",
       "      <td>24.0</td>\n",
       "      <td>711.0</td>\n",
       "      <td>22.0</td>\n",
       "      <td>396.9</td>\n",
       "      <td>37.97</td>\n",
       "      <td>50.0</td>\n",
       "    </tr>\n",
       "  </tbody>\n",
       "</table>\n",
       "</div>"
      ],
      "text/plain": [
       "  summary               CRIM                  ZN               INDUS  \\\n",
       "0   count                506                 506                 506   \n",
       "1    mean  3.613523557312254  11.363636363636363  11.136778656126474   \n",
       "2  stddev  8.601545105332487   23.32245299451514   6.860352940897584   \n",
       "3     min            0.00632                 0.0                0.46   \n",
       "4     max            88.9762               100.0               27.74   \n",
       "\n",
       "                  CHAS                  NOX                  RM  \\\n",
       "0                  506                  506                 506   \n",
       "1   0.0691699604743083   0.5546950592885374   6.284634387351778   \n",
       "2  0.25399404134041037  0.11587767566755591  0.7026171434153231   \n",
       "3                  0.0                0.385               3.561   \n",
       "4                  1.0                0.871                8.78   \n",
       "\n",
       "                  AGE                 DIS                RAD  \\\n",
       "0                 506                 506                506   \n",
       "1   68.57490118577076  3.7950426877470353  9.549407114624506   \n",
       "2  28.148861406903624  2.1057101266276113  8.707259384239368   \n",
       "3                 2.9              1.1296                1.0   \n",
       "4               100.0             12.1265               24.0   \n",
       "\n",
       "                  TAX            PTRATIO                   B  \\\n",
       "0                 506                506                 506   \n",
       "1   408.2371541501976  18.45553359683795  356.67403162055354   \n",
       "2  168.53711605495903  2.164945523714439   91.29486438415786   \n",
       "3               187.0               12.6                0.32   \n",
       "4               711.0               22.0               396.9   \n",
       "\n",
       "                LSTAT             Target  \n",
       "0                 506                506  \n",
       "1  12.653063241106722  22.53280632411067  \n",
       "2    7.14106151134857  9.197104087379817  \n",
       "3                1.73                5.0  \n",
       "4               37.97               50.0  "
      ]
     },
     "execution_count": 6,
     "metadata": {},
     "output_type": "execute_result"
    }
   ],
   "source": [
    "data.describe().toPandas()"
   ]
  },
  {
   "cell_type": "markdown",
   "id": "87448c84",
   "metadata": {},
   "source": [
    "## Exploratory Data Analysis "
   ]
  },
  {
   "cell_type": "code",
   "execution_count": null,
   "id": "99c5ac07",
   "metadata": {
    "ExecuteTime": {
     "end_time": "2023-02-19T16:41:21.388896Z",
     "start_time": "2023-02-19T16:41:21.388850Z"
    },
    "scrolled": true
   },
   "outputs": [],
   "source": [
    "correlation  = []\n",
    "colmns = data.columns\n",
    "for i,col1 in enumerate(colmns):\n",
    "    row = []\n",
    "    for j,col2 in enumerate(colmns):\n",
    "            corr_val = data.agg(corr(col1,col2)).first()[0]\n",
    "            row.append(corr_val)\n",
    "    correlation.append(row)\n",
    "print(correlation)\n"
   ]
  },
  {
   "cell_type": "code",
   "execution_count": null,
   "id": "0a220a88",
   "metadata": {
    "ExecuteTime": {
     "end_time": "2023-02-19T16:41:21.407188Z",
     "start_time": "2023-02-19T16:41:21.407141Z"
    }
   },
   "outputs": [],
   "source": [
    "spark.createDataFrame(correlation,schema=schema).ToPandas()"
   ]
  },
  {
   "cell_type": "markdown",
   "id": "6b0bce06",
   "metadata": {
    "ExecuteTime": {
     "end_time": "2023-02-05T07:12:54.203981Z",
     "start_time": "2023-02-05T07:12:54.160371Z"
    }
   },
   "source": [
    "## Independent feature or Dependent feature"
   ]
  },
  {
   "cell_type": "code",
   "execution_count": null,
   "id": "fe1d99cc",
   "metadata": {
    "ExecuteTime": {
     "end_time": "2023-02-19T16:41:21.414668Z",
     "start_time": "2023-02-19T16:41:21.414636Z"
    }
   },
   "outputs": [],
   "source": [
    "data.columns"
   ]
  },
  {
   "cell_type": "code",
   "execution_count": 7,
   "id": "4907f942",
   "metadata": {
    "ExecuteTime": {
     "end_time": "2023-02-19T16:42:17.962011Z",
     "start_time": "2023-02-19T16:42:17.292500Z"
    }
   },
   "outputs": [],
   "source": [
    "from pyspark.ml.feature import StandardScaler , VectorAssembler\n",
    "assembler = VectorAssembler(inputCols=data.columns[:-1],outputCol='features')\n",
    "dataAssembled = assembler.transform(data)"
   ]
  },
  {
   "cell_type": "code",
   "execution_count": null,
   "id": "a027e6a4",
   "metadata": {},
   "outputs": [],
   "source": [
    "from pyspark.ml.stat import Correlation\n",
    "Correlation.corr(dataAssembled,'features','pearson')"
   ]
  },
  {
   "cell_type": "code",
   "execution_count": 39,
   "id": "b5e07b5e",
   "metadata": {
    "ExecuteTime": {
     "end_time": "2023-02-07T08:35:17.658029Z",
     "start_time": "2023-02-07T08:35:17.624240Z"
    }
   },
   "outputs": [],
   "source": [
    "trainData , testData = dataAssembled.randomSplit([0.7,0.3],seed=123)"
   ]
  },
  {
   "cell_type": "code",
   "execution_count": 40,
   "id": "0bb4faa0",
   "metadata": {
    "ExecuteTime": {
     "end_time": "2023-02-07T08:36:26.199933Z",
     "start_time": "2023-02-07T08:36:24.655786Z"
    }
   },
   "outputs": [
    {
     "name": "stderr",
     "output_type": "stream",
     "text": [
      "23/02/07 14:06:25 WARN package: Truncated the string representation of a plan since it was too large. This behavior can be adjusted by setting 'spark.sql.debug.maxToStringFields'.\n"
     ]
    }
   ],
   "source": [
    "scaler = StandardScaler(inputCol='features',outputCol='scaledFeatures')\n",
    "scaleModel = scaler.fit(trainData)\n",
    "trainDataScaled = scaleModel.transform(trainData)\n",
    "testDataScaled = scaleModel.transform(testData)"
   ]
  },
  {
   "cell_type": "code",
   "execution_count": 47,
   "id": "06799f86",
   "metadata": {
    "ExecuteTime": {
     "end_time": "2023-02-07T20:01:21.295318Z",
     "start_time": "2023-02-07T20:01:21.248157Z"
    }
   },
   "outputs": [],
   "source": [
    "trainDataScaled = trainDataScaled.drop('features').withColumnRenamed('scaledFeatures','features')"
   ]
  },
  {
   "cell_type": "code",
   "execution_count": 48,
   "id": "07785e3b",
   "metadata": {
    "ExecuteTime": {
     "end_time": "2023-02-07T20:01:45.421481Z",
     "start_time": "2023-02-07T20:01:45.355654Z"
    }
   },
   "outputs": [],
   "source": [
    "testDataScaled = testDataScaled.drop('features').withColumnRenamed('scaledFeatures','features')"
   ]
  },
  {
   "cell_type": "code",
   "execution_count": 42,
   "id": "043961c6",
   "metadata": {
    "ExecuteTime": {
     "end_time": "2023-02-07T08:39:20.887807Z",
     "start_time": "2023-02-07T08:39:20.804448Z"
    }
   },
   "outputs": [],
   "source": [
    "X_train = trainDataScaled.select('scaledFeatures')\n",
    "Y_train = trainDataScaled.select('Target')\n",
    "X_test = testDataScaled.select('scaledFeatures')\n",
    "Y_test = testDataScaled.select('Target')"
   ]
  },
  {
   "cell_type": "code",
   "execution_count": 49,
   "id": "f7d21e23",
   "metadata": {
    "ExecuteTime": {
     "end_time": "2023-02-07T20:02:16.809668Z",
     "start_time": "2023-02-07T20:02:14.555704Z"
    }
   },
   "outputs": [
    {
     "name": "stderr",
     "output_type": "stream",
     "text": [
      "23/02/08 01:32:15 WARN Instrumentation: [2d1b6678] regParam is zero, which might cause numerical instability and overfitting.\n",
      "23/02/08 01:32:16 WARN BLAS: Failed to load implementation from: com.github.fommil.netlib.NativeSystemBLAS\n",
      "23/02/08 01:32:16 WARN BLAS: Failed to load implementation from: com.github.fommil.netlib.NativeRefBLAS\n",
      "23/02/08 01:32:16 WARN LAPACK: Failed to load implementation from: com.github.fommil.netlib.NativeSystemLAPACK\n",
      "23/02/08 01:32:16 WARN LAPACK: Failed to load implementation from: com.github.fommil.netlib.NativeRefLAPACK\n"
     ]
    }
   ],
   "source": [
    "from pyspark.ml.regression import LinearRegression\n",
    "lr = LinearRegression(featuresCol='features',labelCol='Target')\n",
    "linearRegModel = lr.fit(trainDataScaled)\n"
   ]
  },
  {
   "cell_type": "code",
   "execution_count": 54,
   "id": "bc91536c",
   "metadata": {
    "ExecuteTime": {
     "end_time": "2023-02-07T20:08:42.400426Z",
     "start_time": "2023-02-07T20:08:42.339931Z"
    }
   },
   "outputs": [],
   "source": [
    "output = linearRegModel.transform(testDataScaled)"
   ]
  },
  {
   "cell_type": "code",
   "execution_count": 55,
   "id": "0acead63",
   "metadata": {
    "ExecuteTime": {
     "end_time": "2023-02-07T20:08:45.894820Z",
     "start_time": "2023-02-07T20:08:45.604819Z"
    }
   },
   "outputs": [
    {
     "data": {
      "text/html": [
       "<div>\n",
       "<style scoped>\n",
       "    .dataframe tbody tr th:only-of-type {\n",
       "        vertical-align: middle;\n",
       "    }\n",
       "\n",
       "    .dataframe tbody tr th {\n",
       "        vertical-align: top;\n",
       "    }\n",
       "\n",
       "    .dataframe thead th {\n",
       "        text-align: right;\n",
       "    }\n",
       "</style>\n",
       "<table border=\"1\" class=\"dataframe\">\n",
       "  <thead>\n",
       "    <tr style=\"text-align: right;\">\n",
       "      <th></th>\n",
       "      <th>CRIM</th>\n",
       "      <th>ZN</th>\n",
       "      <th>INDUS</th>\n",
       "      <th>CHAS</th>\n",
       "      <th>NOX</th>\n",
       "      <th>RM</th>\n",
       "      <th>AGE</th>\n",
       "      <th>DIS</th>\n",
       "      <th>RAD</th>\n",
       "      <th>TAX</th>\n",
       "      <th>PTRATIO</th>\n",
       "      <th>B</th>\n",
       "      <th>LSTAT</th>\n",
       "      <th>Target</th>\n",
       "      <th>features</th>\n",
       "      <th>prediction</th>\n",
       "    </tr>\n",
       "  </thead>\n",
       "  <tbody>\n",
       "    <tr>\n",
       "      <th>0</th>\n",
       "      <td>0.01360</td>\n",
       "      <td>75.0</td>\n",
       "      <td>4.00</td>\n",
       "      <td>0.0</td>\n",
       "      <td>0.410</td>\n",
       "      <td>5.888</td>\n",
       "      <td>47.6</td>\n",
       "      <td>7.3197</td>\n",
       "      <td>3.0</td>\n",
       "      <td>469.0</td>\n",
       "      <td>21.1</td>\n",
       "      <td>396.90</td>\n",
       "      <td>14.80</td>\n",
       "      <td>18.9</td>\n",
       "      <td>[0.0014497563454740606, 3.229646407984387, 0.5...</td>\n",
       "      <td>14.412631</td>\n",
       "    </tr>\n",
       "    <tr>\n",
       "      <th>1</th>\n",
       "      <td>0.02729</td>\n",
       "      <td>0.0</td>\n",
       "      <td>7.07</td>\n",
       "      <td>0.0</td>\n",
       "      <td>0.469</td>\n",
       "      <td>7.185</td>\n",
       "      <td>61.1</td>\n",
       "      <td>4.9671</td>\n",
       "      <td>2.0</td>\n",
       "      <td>242.0</td>\n",
       "      <td>17.8</td>\n",
       "      <td>392.83</td>\n",
       "      <td>4.03</td>\n",
       "      <td>34.7</td>\n",
       "      <td>[0.002909106666763758, 0.0, 1.0466127444842817...</td>\n",
       "      <td>30.513756</td>\n",
       "    </tr>\n",
       "    <tr>\n",
       "      <th>2</th>\n",
       "      <td>0.02875</td>\n",
       "      <td>28.0</td>\n",
       "      <td>15.04</td>\n",
       "      <td>0.0</td>\n",
       "      <td>0.464</td>\n",
       "      <td>6.211</td>\n",
       "      <td>28.9</td>\n",
       "      <td>3.6659</td>\n",
       "      <td>4.0</td>\n",
       "      <td>270.0</td>\n",
       "      <td>18.2</td>\n",
       "      <td>396.33</td>\n",
       "      <td>6.21</td>\n",
       "      <td>25.0</td>\n",
       "      <td>[0.0030647422744396503, 1.205734658980838, 2.2...</td>\n",
       "      <td>29.103762</td>\n",
       "    </tr>\n",
       "    <tr>\n",
       "      <th>3</th>\n",
       "      <td>0.03359</td>\n",
       "      <td>75.0</td>\n",
       "      <td>2.95</td>\n",
       "      <td>0.0</td>\n",
       "      <td>0.428</td>\n",
       "      <td>7.024</td>\n",
       "      <td>15.8</td>\n",
       "      <td>5.4011</td>\n",
       "      <td>3.0</td>\n",
       "      <td>252.0</td>\n",
       "      <td>18.3</td>\n",
       "      <td>395.62</td>\n",
       "      <td>1.98</td>\n",
       "      <td>34.9</td>\n",
       "      <td>[0.0035806849738583605, 3.229646407984387, 0.4...</td>\n",
       "      <td>33.679658</td>\n",
       "    </tr>\n",
       "    <tr>\n",
       "      <th>4</th>\n",
       "      <td>0.03551</td>\n",
       "      <td>25.0</td>\n",
       "      <td>4.86</td>\n",
       "      <td>0.0</td>\n",
       "      <td>0.426</td>\n",
       "      <td>6.167</td>\n",
       "      <td>46.7</td>\n",
       "      <td>5.4007</td>\n",
       "      <td>4.0</td>\n",
       "      <td>281.0</td>\n",
       "      <td>19.0</td>\n",
       "      <td>390.64</td>\n",
       "      <td>7.51</td>\n",
       "      <td>22.9</td>\n",
       "      <td>[0.0037853564579252864, 1.0765488026614625, 0....</td>\n",
       "      <td>25.131852</td>\n",
       "    </tr>\n",
       "    <tr>\n",
       "      <th>...</th>\n",
       "      <td>...</td>\n",
       "      <td>...</td>\n",
       "      <td>...</td>\n",
       "      <td>...</td>\n",
       "      <td>...</td>\n",
       "      <td>...</td>\n",
       "      <td>...</td>\n",
       "      <td>...</td>\n",
       "      <td>...</td>\n",
       "      <td>...</td>\n",
       "      <td>...</td>\n",
       "      <td>...</td>\n",
       "      <td>...</td>\n",
       "      <td>...</td>\n",
       "      <td>...</td>\n",
       "      <td>...</td>\n",
       "    </tr>\n",
       "    <tr>\n",
       "      <th>141</th>\n",
       "      <td>24.39380</td>\n",
       "      <td>0.0</td>\n",
       "      <td>18.10</td>\n",
       "      <td>0.0</td>\n",
       "      <td>0.700</td>\n",
       "      <td>4.652</td>\n",
       "      <td>100.0</td>\n",
       "      <td>1.4672</td>\n",
       "      <td>24.0</td>\n",
       "      <td>666.0</td>\n",
       "      <td>20.2</td>\n",
       "      <td>396.90</td>\n",
       "      <td>28.28</td>\n",
       "      <td>10.5</td>\n",
       "      <td>[2.6003725250165544, 0.0, 2.679447054478854, 0...</td>\n",
       "      <td>6.508512</td>\n",
       "    </tr>\n",
       "    <tr>\n",
       "      <th>142</th>\n",
       "      <td>24.80170</td>\n",
       "      <td>0.0</td>\n",
       "      <td>18.10</td>\n",
       "      <td>0.0</td>\n",
       "      <td>0.693</td>\n",
       "      <td>5.349</td>\n",
       "      <td>96.0</td>\n",
       "      <td>1.7028</td>\n",
       "      <td>24.0</td>\n",
       "      <td>666.0</td>\n",
       "      <td>20.2</td>\n",
       "      <td>396.90</td>\n",
       "      <td>19.77</td>\n",
       "      <td>8.3</td>\n",
       "      <td>[2.643854555407648, 0.0, 2.679447054478854, 0....</td>\n",
       "      <td>13.338400</td>\n",
       "    </tr>\n",
       "    <tr>\n",
       "      <th>143</th>\n",
       "      <td>25.04610</td>\n",
       "      <td>0.0</td>\n",
       "      <td>18.10</td>\n",
       "      <td>0.0</td>\n",
       "      <td>0.693</td>\n",
       "      <td>5.987</td>\n",
       "      <td>100.0</td>\n",
       "      <td>1.5888</td>\n",
       "      <td>24.0</td>\n",
       "      <td>666.0</td>\n",
       "      <td>20.2</td>\n",
       "      <td>396.90</td>\n",
       "      <td>26.77</td>\n",
       "      <td>5.6</td>\n",
       "      <td>[2.669907529733667, 0.0, 2.679447054478854, 0....</td>\n",
       "      <td>11.614510</td>\n",
       "    </tr>\n",
       "    <tr>\n",
       "      <th>144</th>\n",
       "      <td>25.94060</td>\n",
       "      <td>0.0</td>\n",
       "      <td>18.10</td>\n",
       "      <td>0.0</td>\n",
       "      <td>0.679</td>\n",
       "      <td>5.304</td>\n",
       "      <td>89.1</td>\n",
       "      <td>1.6475</td>\n",
       "      <td>24.0</td>\n",
       "      <td>666.0</td>\n",
       "      <td>20.2</td>\n",
       "      <td>127.36</td>\n",
       "      <td>26.64</td>\n",
       "      <td>10.4</td>\n",
       "      <td>[2.765260989367972, 0.0, 2.679447054478854, 0....</td>\n",
       "      <td>6.577023</td>\n",
       "    </tr>\n",
       "    <tr>\n",
       "      <th>145</th>\n",
       "      <td>28.65580</td>\n",
       "      <td>0.0</td>\n",
       "      <td>18.10</td>\n",
       "      <td>0.0</td>\n",
       "      <td>0.597</td>\n",
       "      <td>5.155</td>\n",
       "      <td>100.0</td>\n",
       "      <td>1.5894</td>\n",
       "      <td>24.0</td>\n",
       "      <td>666.0</td>\n",
       "      <td>20.2</td>\n",
       "      <td>210.97</td>\n",
       "      <td>20.08</td>\n",
       "      <td>16.3</td>\n",
       "      <td>[3.0547005797526166, 0.0, 2.679447054478854, 0...</td>\n",
       "      <td>12.155778</td>\n",
       "    </tr>\n",
       "  </tbody>\n",
       "</table>\n",
       "<p>146 rows × 16 columns</p>\n",
       "</div>"
      ],
      "text/plain": [
       "         CRIM    ZN  INDUS  CHAS    NOX     RM    AGE     DIS   RAD    TAX  \\\n",
       "0     0.01360  75.0   4.00   0.0  0.410  5.888   47.6  7.3197   3.0  469.0   \n",
       "1     0.02729   0.0   7.07   0.0  0.469  7.185   61.1  4.9671   2.0  242.0   \n",
       "2     0.02875  28.0  15.04   0.0  0.464  6.211   28.9  3.6659   4.0  270.0   \n",
       "3     0.03359  75.0   2.95   0.0  0.428  7.024   15.8  5.4011   3.0  252.0   \n",
       "4     0.03551  25.0   4.86   0.0  0.426  6.167   46.7  5.4007   4.0  281.0   \n",
       "..        ...   ...    ...   ...    ...    ...    ...     ...   ...    ...   \n",
       "141  24.39380   0.0  18.10   0.0  0.700  4.652  100.0  1.4672  24.0  666.0   \n",
       "142  24.80170   0.0  18.10   0.0  0.693  5.349   96.0  1.7028  24.0  666.0   \n",
       "143  25.04610   0.0  18.10   0.0  0.693  5.987  100.0  1.5888  24.0  666.0   \n",
       "144  25.94060   0.0  18.10   0.0  0.679  5.304   89.1  1.6475  24.0  666.0   \n",
       "145  28.65580   0.0  18.10   0.0  0.597  5.155  100.0  1.5894  24.0  666.0   \n",
       "\n",
       "     PTRATIO       B  LSTAT  Target  \\\n",
       "0       21.1  396.90  14.80    18.9   \n",
       "1       17.8  392.83   4.03    34.7   \n",
       "2       18.2  396.33   6.21    25.0   \n",
       "3       18.3  395.62   1.98    34.9   \n",
       "4       19.0  390.64   7.51    22.9   \n",
       "..       ...     ...    ...     ...   \n",
       "141     20.2  396.90  28.28    10.5   \n",
       "142     20.2  396.90  19.77     8.3   \n",
       "143     20.2  396.90  26.77     5.6   \n",
       "144     20.2  127.36  26.64    10.4   \n",
       "145     20.2  210.97  20.08    16.3   \n",
       "\n",
       "                                              features  prediction  \n",
       "0    [0.0014497563454740606, 3.229646407984387, 0.5...   14.412631  \n",
       "1    [0.002909106666763758, 0.0, 1.0466127444842817...   30.513756  \n",
       "2    [0.0030647422744396503, 1.205734658980838, 2.2...   29.103762  \n",
       "3    [0.0035806849738583605, 3.229646407984387, 0.4...   33.679658  \n",
       "4    [0.0037853564579252864, 1.0765488026614625, 0....   25.131852  \n",
       "..                                                 ...         ...  \n",
       "141  [2.6003725250165544, 0.0, 2.679447054478854, 0...    6.508512  \n",
       "142  [2.643854555407648, 0.0, 2.679447054478854, 0....   13.338400  \n",
       "143  [2.669907529733667, 0.0, 2.679447054478854, 0....   11.614510  \n",
       "144  [2.765260989367972, 0.0, 2.679447054478854, 0....    6.577023  \n",
       "145  [3.0547005797526166, 0.0, 2.679447054478854, 0...   12.155778  \n",
       "\n",
       "[146 rows x 16 columns]"
      ]
     },
     "execution_count": 55,
     "metadata": {},
     "output_type": "execute_result"
    }
   ],
   "source": [
    "output.toPandas()"
   ]
  },
  {
   "cell_type": "code",
   "execution_count": 65,
   "id": "60f5b3d3",
   "metadata": {
    "ExecuteTime": {
     "end_time": "2023-02-07T20:55:44.248498Z",
     "start_time": "2023-02-07T20:55:43.769198Z"
    }
   },
   "outputs": [
    {
     "data": {
      "text/plain": [
       "4.258927493745456"
      ]
     },
     "execution_count": 65,
     "metadata": {},
     "output_type": "execute_result"
    }
   ],
   "source": [
    "from pyspark.ml.evaluation import RegressionEvaluator\n",
    "evaluator = RegressionEvaluator(metricName='rmse',labelCol='Target',predictionCol='prediction')\n",
    "evaluator.evaluate(linearRegModel.transform(testDataScaled))"
   ]
  },
  {
   "cell_type": "code",
   "execution_count": 72,
   "id": "e3073ba8",
   "metadata": {
    "ExecuteTime": {
     "end_time": "2023-02-07T21:27:25.836613Z",
     "start_time": "2023-02-07T21:27:25.269031Z"
    }
   },
   "outputs": [],
   "source": [
    "linearRegModel.write().overwrite().save('/Users/gaurav/Desktop/Datalaptop/Desktop/DataScience/gitProjects/Data-Science-Portfolio/BostonHousePricing/model')"
   ]
  },
  {
   "cell_type": "code",
   "execution_count": 69,
   "id": "d51890f3",
   "metadata": {
    "ExecuteTime": {
     "end_time": "2023-02-07T21:22:29.995745Z",
     "start_time": "2023-02-07T21:22:29.757859Z"
    }
   },
   "outputs": [
    {
     "name": "stdout",
     "output_type": "stream",
     "text": [
      "/Users/gaurav/Desktop/Datalaptop/Desktop/DataScience/gitProjects/Data-Science-Portfolio/BostonHousePricing\r\n"
     ]
    }
   ],
   "source": [
    "!pwd"
   ]
  },
  {
   "cell_type": "code",
   "execution_count": 68,
   "id": "337b72bf",
   "metadata": {
    "ExecuteTime": {
     "end_time": "2023-02-07T21:13:35.227103Z",
     "start_time": "2023-02-07T21:13:35.189203Z"
    }
   },
   "outputs": [
    {
     "ename": "TypeError",
     "evalue": "cannot pickle '_thread.RLock' object",
     "output_type": "error",
     "traceback": [
      "\u001b[0;31m---------------------------------------------------------------------------\u001b[0m",
      "\u001b[0;31mTypeError\u001b[0m                                 Traceback (most recent call last)",
      "Input \u001b[0;32mIn [68]\u001b[0m, in \u001b[0;36m<cell line: 1>\u001b[0;34m()\u001b[0m\n\u001b[0;32m----> 1\u001b[0m \u001b[43mpickle\u001b[49m\u001b[38;5;241;43m.\u001b[39;49m\u001b[43mdump\u001b[49m\u001b[43m(\u001b[49m\u001b[43mlinearRegModel\u001b[49m\u001b[43m,\u001b[49m\u001b[38;5;28;43mopen\u001b[39;49m\u001b[43m(\u001b[49m\u001b[38;5;124;43m'\u001b[39;49m\u001b[38;5;124;43mregressionModel.pkl\u001b[39;49m\u001b[38;5;124;43m'\u001b[39;49m\u001b[43m,\u001b[49m\u001b[38;5;124;43m'\u001b[39;49m\u001b[38;5;124;43mwb\u001b[39;49m\u001b[38;5;124;43m'\u001b[39;49m\u001b[43m)\u001b[49m\u001b[43m)\u001b[49m\n",
      "\u001b[0;31mTypeError\u001b[0m: cannot pickle '_thread.RLock' object"
     ]
    }
   ],
   "source": []
  },
  {
   "cell_type": "code",
   "execution_count": null,
   "id": "60b0f60c",
   "metadata": {},
   "outputs": [],
   "source": []
  }
 ],
 "metadata": {
  "kernelspec": {
   "display_name": "Python 3 (ipykernel)",
   "language": "python",
   "name": "python3"
  },
  "language_info": {
   "codemirror_mode": {
    "name": "ipython",
    "version": 3
   },
   "file_extension": ".py",
   "mimetype": "text/x-python",
   "name": "python",
   "nbconvert_exporter": "python",
   "pygments_lexer": "ipython3",
   "version": "3.9.13"
  }
 },
 "nbformat": 4,
 "nbformat_minor": 5
}
